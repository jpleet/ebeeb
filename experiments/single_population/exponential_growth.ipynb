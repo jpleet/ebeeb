{
 "cells": [
  {
   "cell_type": "markdown",
   "metadata": {},
   "source": [
    "# Exponential Growth\n",
    "\n",
    "Malthus was one of the first to stress exponential population growth back in 1798. The Malthusian growth model is a differential equation that describes a population growing at a constant unrestricted rate. This example starts with the population-level differential equation and then shows how to create the same system as an IEBM."
   ]
  },
  {
   "cell_type": "markdown",
   "metadata": {
    "toc-hr-collapsed": true,
    "toc-nb-collapsed": true
   },
   "source": [
    "## Ordinary Differential Equation\n",
    "\n",
    "The Malthusian growth model can be written as a differential equation,\n",
    "\n",
    "\\begin{equation*}\n",
    "\\frac{dN}{dt} = rN(t)\n",
    "\\end{equation*}\n",
    "\n",
    "where a population, $N$, increases unrestrictedly in size based on a growth rate, $r$. The growth rate is a per capita measure of the difference between *birth* and *death* rates, which is important later when creating the same event-based system. There is a simple solution to this differential equation, \n",
    "\n",
    "\\begin{equation*}\n",
    "\\ N(t) = N_0 e^{rt}\n",
    "\\end{equation*}\n",
    "\n",
    "based on an initial population size, $N_0$. Future examples need integration, so for posterity, here's how to integrate in Python. If a population has a growth rate of 0.001 and a starting size of 500, their exponential growth would look like:"
   ]
  },
  {
   "cell_type": "code",
   "execution_count": 1,
   "metadata": {},
   "outputs": [
    {
     "data": {
      "image/png": "[encoded data removed]",
      "text/plain": [
       "<Figure size 432x288 with 1 Axes>"
      ]
     },
     "metadata": {
      "needs_background": "light"
     },
     "output_type": "display_data"
    }
   ],
   "source": [
    "%matplotlib inline\n",
    "# load required packages\n",
    "import numpy as np\n",
    "import matplotlib.pyplot as plt\n",
    "plt.style.use('bmh')\n",
    "from scipy import integrate\n",
    "\n",
    "# set parameters\n",
    "growth_rate = 0.001\n",
    "init_size = 500\n",
    "ode_times = np.linspace(0, 3000, 100) # inference times\n",
    "\n",
    "# create exponential growth equation as a function of N\n",
    "def dN_dt(N, t=0):\n",
    "    return growth_rate * N[0]\n",
    "\n",
    "# integrate growth equation\n",
    "X, info = integrate.odeint(dN_dt, init_size, ode_times, full_output=True)\n",
    "# format and store results\n",
    "ode_pop, = X.T\n",
    "\n",
    "# plot\n",
    "fig, ax = plt.subplots()\n",
    "ax.plot(ode_times, ode_pop, label='ODE')\n",
    "ax.set_ylabel('Population Size', labelpad=10)\n",
    "ax.set_xlabel('Time', labelpad=10)\n",
    "plt.legend(bbox_to_anchor=(1,1), loc='upper left', borderaxespad=0)\n",
    "plt.show()"
   ]
  },
  {
   "cell_type": "markdown",
   "metadata": {},
   "source": [
    "## Indiviual-Level EBM\n",
    "We are going to build a 2D population that grows exponentially, so things like overlapping individuals are possible."
   ]
  },
  {
   "cell_type": "markdown",
   "metadata": {},
   "source": [
    "## Single Simulation"
   ]
  },
  {
   "cell_type": "code",
   "execution_count": 2,
   "metadata": {},
   "outputs": [
    {
     "data": {
      "text/html": [
       "<style type='text/css'>\n",
       ".datatable table.frame { margin-bottom: 0; }\n",
       ".datatable table.frame thead { border-bottom: none; }\n",
       ".datatable table.frame tr.coltypes td {  color: #FFFFFF;  line-height: 6px;  padding: 0 0.5em;}\n",
       ".datatable .bool    { background: #DDDD99; }\n",
       ".datatable .object  { background: #565656; }\n",
       ".datatable .int     { background: #5D9E5D; }\n",
       ".datatable .float   { background: #4040CC; }\n",
       ".datatable .str     { background: #CC4040; }\n",
       ".datatable .row_index {  background: var(--jp-border-color3);  border-right: 1px solid var(--jp-border-color0);  color: var(--jp-ui-font-color3);  font-size: 9px;}\n",
       ".datatable .frame tr.coltypes .row_index {  background: var(--jp-border-color0);}\n",
       ".datatable th:nth-child(2) { padding-left: 12px; }\n",
       ".datatable .hellipsis {  color: var(--jp-cell-editor-border-color);}\n",
       ".datatable .vellipsis {  background: var(--jp-layout-color0);  color: var(--jp-cell-editor-border-color);}\n",
       ".datatable .na {  color: var(--jp-cell-editor-border-color);  font-size: 80%;}\n",
       ".datatable .footer { font-size: 9px; }\n",
       ".datatable .frame_dimensions {  background: var(--jp-border-color3);  border-top: 1px solid var(--jp-border-color0);  color: var(--jp-ui-font-color3);  display: inline-block;  opacity: 0.6;  padding: 1px 10px 1px 5px;}\n",
       "</style>\n"
      ],
      "text/plain": [
       "<IPython.core.display.HTML object>"
      ]
     },
     "metadata": {},
     "output_type": "display_data"
    }
   ],
   "source": [
    "# start by importing required classes\n",
    "import sys\n",
    "sys.path.append('../../')\n",
    "from iebm.populations.population2D import Population2D\n",
    "from iebm.traits.static_trait import StaticTrait\n",
    "from iebm.events.birth_asexual import BirthAsexualEvent\n",
    "from iebm.events.death import DeathEvent\n",
    "from iebm.simulation import Simulation"
   ]
  },
  {
   "cell_type": "code",
   "execution_count": 3,
   "metadata": {},
   "outputs": [],
   "source": [
    "# First lets create an empty 2D population. Each individual contains only a unique ID and x-y positions (even though not really needed in this example)\n",
    "\n",
    "# starting size\n",
    "init_size = 500\n",
    "\n",
    "exp_pop = Population2D(name='exp_pop', # unique name (important when there's multiple populations)\n",
    "                       init_size=init_size, # the initial size of the population\n",
    "                       xdim=500, ydim=500) # the environment sizes "
   ]
  },
  {
   "cell_type": "code",
   "execution_count": 4,
   "metadata": {},
   "outputs": [],
   "source": [
    "# Next, the population needs the list of traits for the birth event and the death event.\n",
    "# A birth event requires one specific trait: birth_rate \n",
    "# The birth rate is the population-level per capita birth rate. \n",
    "# Similarly, a death event requires a population-level per capita death rate as a trait.\n",
    "\n",
    "# set parameters to have same growth rate (0.001) as the differential equation example\n",
    "birth_rate = 0.0011\n",
    "death_rate = 0.0001\n",
    "\n",
    "# The list of traits contain tuples. \n",
    "# The first element in the tuple is the necessary Trait module. \n",
    "# The second element is a parameter dictionary necessary to instantiate the Trait module.\n",
    "# Instantiation is done within the Population, so the trait instance knows which population it belongs to.\n",
    "# There is only one Trait module at the moment, but this approach easily allows for others.\n",
    "trait_list = [(StaticTrait, {'name' : 'birth_rate', \n",
    "                             'value' : birth_rate}), \n",
    "              (StaticTrait, {'name' : 'death_rate', \n",
    "                             'value' : death_rate})]\n",
    "# add the traits to the population\n",
    "exp_pop.add_traits(trait_list)"
   ]
  },
  {
   "cell_type": "code",
   "execution_count": 5,
   "metadata": {},
   "outputs": [],
   "source": [
    "# Finally, the population needs the actual birth event and death event.\n",
    "# The time to each individuals next birth/death event is drawn from an exponential distribution with a scale set as the population-level birth/death rate.\n",
    "\n",
    "# The event_list follows the same structure as the Trait list: tuples of (module, parameter dictionary)\n",
    "# Event instances require the current simulation time, this way new events could be added anytime to populations \n",
    "event_list = [(BirthAsexualEvent, {'name' : 'birth',\n",
    "                                   'is_primary' : True,\n",
    "                                   'current_time' : 0}),\n",
    "              (DeathEvent, {'name' : 'death', \n",
    "                            'is_primary' : True,\n",
    "                            'current_time' : 0})]\n",
    "# add events\n",
    "exp_pop.add_events(event_list)"
   ]
  },
  {
   "cell_type": "code",
   "execution_count": 6,
   "metadata": {},
   "outputs": [
    {
     "name": "stderr",
     "output_type": "stream",
     "text": [
      "100%|█████████▉| 2989.9896/3000 [00:07<00:00, 139.68it/s] /home/jordan/miniconda3/envs/ebm/lib/python3.7/site-packages/tqdm/std.py:521: TqdmWarning: clamping frac to range [0, 1]\n",
      "  colour=colour)\n",
      "100%|██████████| 3000.1784/3000 [00:07<00:00, 399.34it/s]"
     ]
    },
    {
     "name": "stdout",
     "output_type": "stream",
     "text": [
      "CPU times: user 57.7 s, sys: 140 ms, total: 57.8 s\n",
      "Wall time: 7.58 s\n"
     ]
    },
    {
     "name": "stderr",
     "output_type": "stream",
     "text": [
      "\n"
     ]
    }
   ],
   "source": [
    "%%time\n",
    "# Takes a few seconds\n",
    "\n",
    "# Add the exp_pop to a dictionary \n",
    "pop_dict = {str(exp_pop) : exp_pop}\n",
    "\n",
    "# Create the simulation with the population dictionary\n",
    "sim = Simulation(pop_dict)\n",
    "\n",
    "# Run the simulation\n",
    "sim.run(3000)\n",
    "\n",
    "# Store results\n",
    "iebm_pop = sim.population_history[str(exp_pop)]\n",
    "iebm_times = sim.time_history"
   ]
  },
  {
   "cell_type": "code",
   "execution_count": 7,
   "metadata": {},
   "outputs": [
    {
     "data": {
      "image/png": "[encoded data removed]",
      "text/plain": [
       "<Figure size 432x288 with 1 Axes>"
      ]
     },
     "metadata": {
      "needs_background": "light"
     },
     "output_type": "display_data"
    }
   ],
   "source": [
    "# Plot to see we get the same results\n",
    "# The slight differences are due to stochasticity in an IEBM\n",
    "# Re-run to see slightly different IEBM results\n",
    "fig, ax = plt.subplots()\n",
    "ax.plot(ode_times, ode_pop, label='ODE')\n",
    "ax.plot(iebm_times, iebm_pop, label='IEBM')\n",
    "ax.set_ylabel('Population Size', labelpad=10)\n",
    "ax.set_xlabel('Time', labelpad=10)\n",
    "plt.legend(bbox_to_anchor=(1,1), loc='upper left', borderaxespad=0)\n",
    "plt.show()"
   ]
  },
  {
   "cell_type": "markdown",
   "metadata": {},
   "source": [
    "## Multiple Simulations\n",
    "\n",
    "We can run a bunch of simulations to show that indeed, on average, the IEBMs have the same dynamics as the ODE"
   ]
  },
  {
   "cell_type": "code",
   "execution_count": 8,
   "metadata": {},
   "outputs": [],
   "source": [
    "# datatable defaults to multithread\n",
    "# only want single thread per parallel simulations\n",
    "import datatable as dt\n",
    "dt.options.nthreads = 1\n",
    "\n",
    "from multiprocessing import Pool\n",
    "from tqdm import tqdm"
   ]
  },
  {
   "cell_type": "code",
   "execution_count": 9,
   "metadata": {},
   "outputs": [],
   "source": [
    "# function is the same steps as the single simulation above, just combined\n",
    "def simulation_func(init_size, xdim, ydim, birth_rate, death_rate, runtime):\n",
    "    \n",
    "    exp_pop = Population2D(name='exp_pop', # unique name (important when there's multiple populations)\n",
    "                           init_size=init_size, # the initial size of the population\n",
    "                           xdim=xdim, ydim=ydim) # the environment sizes \n",
    "\n",
    "    trait_list = [(StaticTrait, {'name' : 'birth_rate', \n",
    "                                 'value' : birth_rate}), \n",
    "                  (StaticTrait, {'name' : 'death_rate', \n",
    "                                 'value' : death_rate})]\n",
    "    exp_pop.add_traits(trait_list)\n",
    "    \n",
    "    event_list = [(BirthAsexualEvent, {'name' : 'birth',\n",
    "                                       'is_primary' : True,\n",
    "                                       'current_time' : 0}),\n",
    "                  (DeathEvent, {'name' : 'death', \n",
    "                                'is_primary' : True,\n",
    "                                'current_time' : 0})]\n",
    "    # add events\n",
    "    exp_pop.add_events(event_list)\n",
    "    \n",
    "    # add the exp_pop to a dictionary \n",
    "    pop_dict = {str(exp_pop) : exp_pop}\n",
    "\n",
    "    # create the simulation with the population dictionary\n",
    "    sim = Simulation(pop_dict)\n",
    "\n",
    "    # run the simulation\n",
    "    sim.run(3000, progress_bar=False)\n",
    "\n",
    "    # store results\n",
    "    iebm_pop = sim.population_history[str(exp_pop)]\n",
    "    iebm_times = sim.time_history\n",
    "    \n",
    "    return iebm_times, iebm_pop"
   ]
  },
  {
   "cell_type": "code",
   "execution_count": 10,
   "metadata": {},
   "outputs": [
    {
     "name": "stderr",
     "output_type": "stream",
     "text": [
      "100%|██████████| 8/8 [00:08<00:00,  1.11s/it]\n"
     ]
    }
   ],
   "source": [
    "# parallelize simulations and track completed\n",
    "\n",
    "runs = 8\n",
    "\n",
    "pbar = tqdm(total=runs)\n",
    "res = []\n",
    "\n",
    "def update(a):\n",
    "    res.append(a)\n",
    "    pbar.update()\n",
    "\n",
    "pool = Pool()\n",
    "for i in range(pbar.total):\n",
    "    p = pool.apply_async(simulation_func, \n",
    "                         args=(500, 500, 500, 0.0011, 0.0001, 3000), \n",
    "                         callback=update)\n",
    "\n",
    "pool.close()\n",
    "pool.join()\n",
    "pbar.close()"
   ]
  },
  {
   "cell_type": "code",
   "execution_count": 11,
   "metadata": {},
   "outputs": [
    {
     "data": {
      "image/png": "[encoded data removed]",
      "text/plain": [
       "<Figure size 432x288 with 1 Axes>"
      ]
     },
     "metadata": {
      "needs_background": "light"
     },
     "output_type": "display_data"
    }
   ],
   "source": [
    "ds = dt.rbind([dt.Frame(time=r[0], pop=r[1]) for r in res])\n",
    "ds['time_int'] = ds[:, dt.int64(dt.f.time)]\n",
    "time_pop = ds[:, dt.mean(dt.f.pop), dt.by(dt.f.time_int)].to_numpy()\n",
    "\n",
    "fig, ax = plt.subplots()\n",
    "ax.plot(ode_times, ode_pop, label='ODE', lw=3)\n",
    "ax.plot(time_pop[:,0], time_pop[:,1], alpha=0.7, lw=3, label='IEBM mean')\n",
    "\n",
    "ax.set_ylabel('Population Size', labelpad=10)\n",
    "ax.set_xlabel('Time', labelpad=10)\n",
    "plt.legend(bbox_to_anchor=(1,1), loc='upper left', borderaxespad=0)\n",
    "plt.show()"
   ]
  }
 ],
 "metadata": {
  "kernelspec": {
   "display_name": "Python 3",
   "language": "python",
   "name": "python3"
  },
  "language_info": {
   "codemirror_mode": {
    "name": "ipython",
    "version": 3
   },
   "file_extension": ".py",
   "mimetype": "text/x-python",
   "name": "python",
   "nbconvert_exporter": "python",
   "pygments_lexer": "ipython3",
   "version": "3.7.9"
  }
 },
 "nbformat": 4,
 "nbformat_minor": 4
}
